{
 "cells": [
  {
   "cell_type": "markdown",
   "metadata": {},
   "source": [
    "# 5.16 List 2 Dimensi"
   ]
  },
  {
   "cell_type": "markdown",
   "metadata": {},
   "source": [
    "Dalam Python, matriks dapat di representasikan sebagai list dalam list (sebuah list, yang dimana setiap elemennya bertipe list). \n",
    "\n",
    "Sebagai contoh : "
   ]
  },
  {
   "cell_type": "code",
   "execution_count": 1,
   "metadata": {},
   "outputs": [],
   "source": [
    "matriks = [[1, 2, 3], [4, 5, 6], [7, 8, 9]]"
   ]
  },
  {
   "cell_type": "code",
   "execution_count": 2,
   "metadata": {},
   "outputs": [
    {
     "name": "stdout",
     "output_type": "stream",
     "text": [
      "[[1, 2, 3], [4, 5, 6], [7, 8, 9]]\n"
     ]
    }
   ],
   "source": [
    "print(matriks)"
   ]
  },
  {
   "cell_type": "code",
   "execution_count": 3,
   "metadata": {},
   "outputs": [
    {
     "name": "stdout",
     "output_type": "stream",
     "text": [
      "[1, 2, 3]\n"
     ]
    }
   ],
   "source": [
    "print(matriks[0])"
   ]
  },
  {
   "cell_type": "code",
   "execution_count": 4,
   "metadata": {},
   "outputs": [
    {
     "name": "stdout",
     "output_type": "stream",
     "text": [
      "6\n"
     ]
    }
   ],
   "source": [
    "print(matriks[1][2])"
   ]
  },
  {
   "cell_type": "code",
   "execution_count": 5,
   "metadata": {},
   "outputs": [
    {
     "name": "stdout",
     "output_type": "stream",
     "text": [
      "100\n",
      "[[1, 2, 3], [4, 5, 100], [7, 8, 9]]\n"
     ]
    }
   ],
   "source": [
    "matriks[1][2] = 100\n",
    "print(matriks[1][2])\n",
    "print(matriks)"
   ]
  },
  {
   "cell_type": "markdown",
   "metadata": {},
   "source": [
    "Untuk memproses list 2 dimensi, biasanya menggunakan perulangan bertingkat. perulangan tingkat pertama mengulang melalui nomor baris, perulangan tingkat kedua melewati elemen di dalam baris\n",
    "\n",
    "Contoh:"
   ]
  },
  {
   "cell_type": "code",
   "execution_count": 6,
   "metadata": {},
   "outputs": [
    {
     "name": "stdout",
     "output_type": "stream",
     "text": [
      "45\n"
     ]
    }
   ],
   "source": [
    "matriks = [[1, 2, 3], [5, 6, 4], [7, 8, 9]]\n",
    "s = 0\n",
    "for row in matriks:\n",
    "    for elem in row:\n",
    "        s += elem\n",
    "print(s)"
   ]
  },
  {
   "cell_type": "markdown",
   "metadata": {},
   "source": [
    "Untuk membuat output seperti susunan matriks berdasarkan elemen dari list 2 dimensi. bisa menggunakan fitur loop seperti 'for' seperti sintaks dibawah ini"
   ]
  },
  {
   "cell_type": "code",
   "execution_count": 7,
   "metadata": {},
   "outputs": [
    {
     "name": "stdout",
     "output_type": "stream",
     "text": [
      "1 2 3 \n",
      "4 5 6 \n",
      "7 8 9 \n"
     ]
    }
   ],
   "source": [
    "matriks = [[1, 2, 3], [4, 5, 6], [7, 8, 9]]\n",
    "for i in matriks:\n",
    "    for j in i:\n",
    "        print(j, end=' ')\n",
    "    print()"
   ]
  },
  {
   "cell_type": "markdown",
   "metadata": {},
   "source": [
    "Secara singkat, dalam menggunakan minimum baris bisa menggunakan metode join()"
   ]
  },
  {
   "cell_type": "code",
   "execution_count": 8,
   "metadata": {},
   "outputs": [
    {
     "name": "stdout",
     "output_type": "stream",
     "text": [
      "1 2 3\n",
      "4 5 6\n",
      "7 8 9\n"
     ]
    }
   ],
   "source": [
    "for i in matriks:\n",
    "    print(' '.join([str(j) for j in i]))"
   ]
  },
  {
   "cell_type": "markdown",
   "metadata": {},
   "source": [
    "untuk membuat list-2 dimensi dengan jumlah baris __n__ dan jumlah kolom __m__ misalnya dalam pembuatan matriks nol, maka contohnya sebagai berikut:"
   ]
  },
  {
   "cell_type": "code",
   "execution_count": 9,
   "metadata": {},
   "outputs": [
    {
     "name": "stdout",
     "output_type": "stream",
     "text": [
      "[[0, 0, 0, 0], [0, 0, 0, 0], [0, 0, 0, 0]]\n"
     ]
    }
   ],
   "source": [
    "n = 3\n",
    "m = 4\n",
    "a = [[0] * m] * n\n",
    "print(a)"
   ]
  },
  {
   "cell_type": "code",
   "execution_count": 10,
   "metadata": {},
   "outputs": [
    {
     "name": "stdout",
     "output_type": "stream",
     "text": [
      "0 0 0 0\n",
      "0 0 0 0\n",
      "0 0 0 0\n"
     ]
    }
   ],
   "source": [
    "for i in a:\n",
    "    print(' '.join([str(j) for j in i]))"
   ]
  },
  {
   "cell_type": "markdown",
   "metadata": {},
   "source": [
    "# 5.17 Tuples"
   ]
  },
  {
   "cell_type": "markdown",
   "metadata": {},
   "source": [
    "Tuple adalah jenis dari list yang tidak dapat diubah elemennya. Umumnya tuple digunakan untuk data yang bersifat sekali tulis, dan dapat dieksekusi lebih cepat. Tuple didefinisikan dengan kurung dan elemen yang dipisahkan dengan koma."
   ]
  },
  {
   "cell_type": "code",
   "execution_count": 11,
   "metadata": {},
   "outputs": [],
   "source": [
    "t = (8, 'kobo', True)"
   ]
  },
  {
   "cell_type": "markdown",
   "metadata": {},
   "source": [
    "Seperti list, bisa melakukan slicing, namun pada tuple kita tidak dapat melakukan perubahan:"
   ]
  },
  {
   "cell_type": "code",
   "execution_count": 12,
   "metadata": {},
   "outputs": [
    {
     "name": "stdout",
     "output_type": "stream",
     "text": [
      "kobo\n",
      "(8, 'kobo', True)\n"
     ]
    }
   ],
   "source": [
    "t = (8, 'kobo', True)\n",
    "print(t[1])\n",
    "print(t[:3])"
   ]
  },
  {
   "cell_type": "markdown",
   "metadata": {},
   "source": [
    "tuple tidak dapat melakukan perubahan. Kode berikut akan memberikan nilai error karena kita ingin mengubah elemen pertama (t[0] menjadi 10).\n",
    "```\n",
    "t = (8, 'kobo', True)\n",
    "t[0]=10\n",
    "print(t)\n",
    "```"
   ]
  },
  {
   "cell_type": "markdown",
   "metadata": {},
   "source": [
    "Output:\n",
    "```\n",
    "---------------------------------------------------------------------------\n",
    "TypeError                                 Traceback (most recent call last)\n",
    "Input In [15], in <cell line: 2>()\n",
    "      1 t = (8, 'kobo', True)\n",
    "----> 2 t[0]=10\n",
    "      3 print(t)\n",
    "\n",
    "TypeError: 'tuple' object does not support item assignment\n",
    "```"
   ]
  },
  {
   "cell_type": "markdown",
   "metadata": {},
   "source": [
    "Tidak seperti tipe data lainnya, tuple tidak mendukung methods\n",
    "contoh yang tidak didukung:\n",
    "```\n",
    "t.append(10)\n",
    "```"
   ]
  },
  {
   "cell_type": "markdown",
   "metadata": {},
   "source": [
    "# 5.18 Dictionary"
   ]
  },
  {
   "cell_type": "markdown",
   "metadata": {},
   "source": [
    "Dictionary pada Python adalah kumpulan pasangan kunci-nilai (pair of key-value) yang bersifat tidak berurutan. Dictionary dapat digunakan untuk menyimpan data kecil hingga besar. Untuk mengakses datanya, kita harus mengetahui kuncinya (key). Pada Python, dictionary didefinisikan dengan kurawal dan tambahan definisi berikut:\n",
    "* Setiap elemen pair key-value dipisahkan dengan koma (,).\n",
    "* Key dan Value dipisahkan dengan titik dua (:).\n",
    "* Key dan Value dapat berupa tipe variabel/obyek apapun."
   ]
  },
  {
   "cell_type": "raw",
   "metadata": {},
   "source": [
    "d = {\n",
    "    \"key1\":\"value1\",\n",
    "    \"key2\":\"value2\"\n",
    "}"
   ]
  },
  {
   "cell_type": "code",
   "execution_count": 13,
   "metadata": {},
   "outputs": [
    {
     "name": "stdout",
     "output_type": "stream",
     "text": [
      "<class 'dict'>\n"
     ]
    }
   ],
   "source": [
    "d = {1:'value','key':2}\n",
    "print(type(d))"
   ]
  },
  {
   "cell_type": "code",
   "execution_count": 14,
   "metadata": {},
   "outputs": [
    {
     "name": "stdout",
     "output_type": "stream",
     "text": [
      "success\n"
     ]
    }
   ],
   "source": [
    "d = {\n",
    "    \"transactionHash\":\"0xadb75ead49aa6aaa78d147cf37a705dde584ec89d4146429e889bcbd3f9e2eb3\",\n",
    "    \"status\":\"success\",\n",
    "    \"block\":41235842,\n",
    "    \"from\":\"0x109d8786c907621eb9aa370149f68a8402d9dcd9\",\n",
    "}\n",
    "\n",
    "print(d[\"status\"])"
   ]
  },
  {
   "cell_type": "code",
   "execution_count": 15,
   "metadata": {},
   "outputs": [
    {
     "name": "stdout",
     "output_type": "stream",
     "text": [
      "success\n"
     ]
    }
   ],
   "source": [
    "print(d.get(\"status\"))"
   ]
  },
  {
   "cell_type": "code",
   "execution_count": 16,
   "metadata": {},
   "outputs": [
    {
     "name": "stdout",
     "output_type": "stream",
     "text": [
      "{'transactionHash': '0xadb75ead49aa6aaa78d147cf37a705dde584ec89d4146429e889bcbd3f9e2eb3', 'status': 'success', 'block': 41235842, 'from': '0x109d8786c907621eb9aa370149f68a8402d9dcd9', 'gaslimit': 66772}\n"
     ]
    }
   ],
   "source": [
    "d[\"gaslimit\"]=66772 \n",
    "print(d)"
   ]
  },
  {
   "cell_type": "code",
   "execution_count": 17,
   "metadata": {},
   "outputs": [
    {
     "name": "stdout",
     "output_type": "stream",
     "text": [
      "['0xc1e42f862d202b4a0ed552c1145735ee088f6ccf', '0x0716a17fbaee714f1e6ab0f9d59edbc5f09815c0']\n"
     ]
    }
   ],
   "source": [
    "datascan = [\n",
    "    {\n",
    "        \"id\":1,\n",
    "        \"ens\":\"vitalik.eth\",\n",
    "        \"address\":\"0xc1e42f862d202b4a0ed552c1145735ee088f6ccf\",\n",
    "        \"tvf\":411733568\n",
    "    },\n",
    "    {\n",
    "        \"id\":2,\n",
    "        \"ens\": None,\n",
    "        \"address\":\"0x0716a17fbaee714f1e6ab0f9d59edbc5f09815c0\",\n",
    "        \"tvf\":14531111\n",
    "    }\n",
    "]\n",
    "\n",
    "result = [i[\"address\"] for i in datascan if \"address\" in i]\n",
    "\n",
    "'''\n",
    "=>  list comprehension akan melakukan iterasi melalui setiap elemen dictionary di dalam datascan\n",
    "    dan memeriksa apakah key yang dipilih yaitu \"address\" ada di dalam elemen tersebut.\n",
    "=>  Jika address tersebut ada di dalam elemen dictionary, maka nilai dari address tersebut \n",
    "    akan ditambahkan ke dalam list result.\n",
    "'''\n",
    "\n",
    "print(result)\n"
   ]
  },
  {
   "cell_type": "markdown",
   "metadata": {},
   "source": [
    "# 5.19 Fungsi di Python"
   ]
  },
  {
   "cell_type": "markdown",
   "metadata": {},
   "source": [
    "Di matematika, fungsi adalah proses yang merelasikan antara sebuah masukan (input) dan keluaran (output). Pada Python, selain fungsi relasi tersebut, fungsi juga adalah salah satu cara untuk mengorganisasikan kode - dengan tujuan akhir kode dapat digunakan kembali (reusability).\n",
    "\n",
    "Beberapa syarat umum fungsi adalah modularisasi dan fungsionalitasnya. Jadi sebaiknya fungsi hanya memiliki satu kegunaan spesifik namun dapat digunakan kembali. Fungsi-fungsi umum telah disediakan oleh Python misalnya print(). Namun bisa juga mendefinisikan atau membuat fungsi Anda sendiri."
   ]
  },
  {
   "cell_type": "markdown",
   "metadata": {},
   "source": [
    "Dalam python, fungsi didefinisikan dengan keyword def diikuti dengan nama fungsi dan parameternya dalam kurung ()"
   ]
  },
  {
   "cell_type": "raw",
   "metadata": {},
   "source": [
    "def namaFungsi(parameter):"
   ]
  },
  {
   "cell_type": "markdown",
   "metadata": {},
   "source": [
    "Secara umum, sintaksis fungsi secara lengkap pada Python biasanya disusun sebagai berikut"
   ]
  },
  {
   "cell_type": "raw",
   "metadata": {},
   "source": [
    "def nama_fungsi(parameter):\n",
    "    statement\n",
    "    return [expression]"
   ]
  },
  {
   "cell_type": "markdown",
   "metadata": {},
   "source": [
    "Sebagai contoh, berikut fungsi yang akan menerima sebuah string sebagai parameter dan mencetaknya."
   ]
  },
  {
   "cell_type": "code",
   "execution_count": 18,
   "metadata": {},
   "outputs": [],
   "source": [
    "def cetak(param):\n",
    "    print(param)\n",
    "    return"
   ]
  },
  {
   "cell_type": "code",
   "execution_count": 19,
   "metadata": {},
   "outputs": [
    {
     "name": "stdout",
     "output_type": "stream",
     "text": [
      "uang\n"
     ]
    }
   ],
   "source": [
    "cetak(\"uang\")"
   ]
  },
  {
   "cell_type": "markdown",
   "metadata": {},
   "source": [
    "Sintaksis return tanpa ekspresi atau return None dapat juga tidak dituliskan. Fungsi di atas akan sama seperti di bawah ini."
   ]
  },
  {
   "cell_type": "code",
   "execution_count": 20,
   "metadata": {},
   "outputs": [],
   "source": [
    "def cetak(param):\n",
    "    print(param)"
   ]
  },
  {
   "cell_type": "code",
   "execution_count": 21,
   "metadata": {},
   "outputs": [
    {
     "name": "stdout",
     "output_type": "stream",
     "text": [
      "uang\n"
     ]
    }
   ],
   "source": [
    "cetak(\"uang\")"
   ]
  },
  {
   "cell_type": "code",
   "execution_count": 22,
   "metadata": {},
   "outputs": [
    {
     "name": "stdout",
     "output_type": "stream",
     "text": [
      "8\n"
     ]
    }
   ],
   "source": [
    "#Berikut ini merupakan pembuatan sintaksis tentang bilangan fibonacci ke-n\n",
    "def fibonacci(n):\n",
    "    if n <= 1:\n",
    "        # Menjalankan kondisi if dimana jika nilai parameter n kurang dari atau sama dengan 1, maka fungsi akan mengembalikan nilai n\n",
    "        return n\n",
    "        # Mengembalikan nilai parameter n jika kondisi pada if terpenuhi\n",
    "    else:\n",
    "        # Jika kondisi pada if tidak terpenuhi, fungsi akan menjalankan bagian else.\n",
    "        return (fibonacci(n-1) + fibonacci(n-2))\n",
    "        # Menjalankan rekursi pada fungsi fibonacci dimana fungsi akan memanggil dirinya sendiri dengan input n-1 dan n-2, dan menjumlahkan kedua nilai tersebut untuk menghasilkan nilai bilangan ke-n dari deret Fibonacci.\n",
    "        \n",
    "    \n",
    "print(fibonacci(6))"
   ]
  },
  {
   "cell_type": "markdown",
   "metadata": {},
   "source": [
    "Diatas merupakan sebuah fungsi untuk mengetahui bilangan fibonacci ke-n dengan ekspresi pemanggilan fungsinya sendiri untuk mengelola dan ini disebut recursive function"
   ]
  },
  {
   "cell_type": "markdown",
   "metadata": {},
   "source": [
    "# 5.20 Numpy"
   ]
  },
  {
   "cell_type": "markdown",
   "metadata": {},
   "source": [
    "__Dokumentasi : [https://numpy.org/doc/stable]__"
   ]
  },
  {
   "cell_type": "markdown",
   "metadata": {},
   "source": [
    "NumPy mengatakan dirinya bahwa : NumPy is the fundamental package for scientific computing in Python. It is a Python library that provides a multidimensional array object, various derived objects (such as masked arrays and matrices), and an assortment of routines for fast operations on arrays, including mathematical, logical, shape manipulation, sorting, selecting, I/O, discrete Fourier transforms, basic linear algebra, basic statistical operations, random simulation and much more."
   ]
  },
  {
   "cell_type": "code",
   "execution_count": 23,
   "metadata": {},
   "outputs": [],
   "source": [
    "import numpy as np"
   ]
  },
  {
   "cell_type": "markdown",
   "metadata": {},
   "source": [
    "Sintaksis diatas merupakan cara memanggil Library Numpy yang diumum digunakan"
   ]
  },
  {
   "cell_type": "markdown",
   "metadata": {},
   "source": [
    "## 5.20.1 Perintah Dasar pada Numpy"
   ]
  },
  {
   "cell_type": "markdown",
   "metadata": {},
   "source": [
    "Studi Kasus: Sebuah enzim diuji pada 5 suhu berbeda (25, 30, 35, 40, dan 45 derajat Celsius) dan diulang sebanyak 3 kali untuk setiap suhu. Data hasil pengukuran waktu reaksi diambil dalam detik dan disimpan dalam array numpy sebagai berikut"
   ]
  },
  {
   "cell_type": "code",
   "execution_count": 24,
   "metadata": {},
   "outputs": [],
   "source": [
    "import numpy as np\n",
    "\n",
    "data = np.array([[5.2, 4.8, 5.0], \n",
    "                 [4.3, 4.5, 4.2], \n",
    "                 [3.5, 3.8, 3.6], \n",
    "                 [2.9, 3.1, 3.0], \n",
    "                 [2.5, 2.7, 2.4]])"
   ]
  },
  {
   "cell_type": "markdown",
   "metadata": {},
   "source": [
    "Untuk menganalisis data tersebut, peneliti dapat melakukan beberapa tindakan sebagai berikut:\n",
    "\n",
    "1. Menghitung rata-rata waktu reaksi pada setiap suhu:"
   ]
  },
  {
   "cell_type": "code",
   "execution_count": 25,
   "metadata": {},
   "outputs": [
    {
     "name": "stdout",
     "output_type": "stream",
     "text": [
      "[5.         4.33333333 3.63333333 3.         2.53333333]\n"
     ]
    }
   ],
   "source": [
    "mean_time = np.mean(data, axis=1)\n",
    "# array data memiliki 5 baris dan 3 kolom, sehingga axis=1 menghasilkan rata-rata pada setiap baris atau untuk setiap suhu uji coba enzim. \n",
    "print(mean_time)"
   ]
  },
  {
   "cell_type": "markdown",
   "metadata": {},
   "source": [
    "2. Mencari suhu yang memberikan waktu reaksi tercepat dan terlama:"
   ]
  },
  {
   "cell_type": "code",
   "execution_count": 26,
   "metadata": {},
   "outputs": [
    {
     "name": "stdout",
     "output_type": "stream",
     "text": [
      "Suhu tercepat: 45 C, waktu reaksi: 2.53 detik\n",
      "Suhu terlama: 25 C, waktu reaksi: 5.0 detik\n"
     ]
    }
   ],
   "source": [
    "min_time_idx = np.argmin(mean_time) # Mengembalikan indeks nilai minimum sepanjang sumbu.\n",
    "max_time_idx = np.argmax(mean_time)\n",
    "\n",
    "min_time = mean_time[min_time_idx]\n",
    "max_time = mean_time[max_time_idx]\n",
    "\n",
    "min_temp = 25 + min_time_idx * 5\n",
    "\n",
    "'''\n",
    "Dalam contoh case study yang saya berikan, suhu yang diuji terdiri dari 5 nilai yang berbeda, \n",
    "yaitu 25, 30, 35, 40, dan 45 derajat Celsius. Indeks suhu mulai dari 0 hingga 4, sehingga indeks 0 mengacu \n",
    "pada suhu 25 derajat Celsius, indeks 1 mengacu pada suhu 30 derajat Celsius, dan seterusnya.\n",
    "'''\n",
    "\n",
    "max_temp = 25 + max_time_idx * 5\n",
    "\n",
    "print(f\"Suhu tercepat: {min_temp} C, waktu reaksi: {min_time:.2f} detik\")\n",
    "# {min_time:.2f} fungsi .2f adalah mengembalikan nilai float dua angka di belakang koma\n",
    "\n",
    "print(f\"Suhu terlama: {max_temp} C, waktu reaksi: {max_time:.1f} detik\")"
   ]
  },
  {
   "cell_type": "markdown",
   "metadata": {},
   "source": [
    "## 5.20.2  Memanggil Anggota, Kolom dan Baris dengan Numpy"
   ]
  },
  {
   "cell_type": "markdown",
   "metadata": {},
   "source": [
    "Sama hal di list, array Numpy bisa memanggil anggotanya, kolom atau baris dengan slicing operator"
   ]
  },
  {
   "cell_type": "code",
   "execution_count": 27,
   "metadata": {},
   "outputs": [],
   "source": [
    "tes = np.array([\n",
    "    [1, 2, 3],\n",
    "    [4, 5, 6],\n",
    "    [7, 8, 9]])"
   ]
  },
  {
   "cell_type": "code",
   "execution_count": 28,
   "metadata": {},
   "outputs": [
    {
     "data": {
      "text/plain": [
       "array([1, 2, 3])"
      ]
     },
     "execution_count": 28,
     "metadata": {},
     "output_type": "execute_result"
    }
   ],
   "source": [
    "tes[0]\n",
    "#memanggil elemen di indeks 0"
   ]
  },
  {
   "cell_type": "code",
   "execution_count": 29,
   "metadata": {},
   "outputs": [
    {
     "data": {
      "text/plain": [
       "3"
      ]
     },
     "execution_count": 29,
     "metadata": {},
     "output_type": "execute_result"
    }
   ],
   "source": [
    "tes[0, 2]\n",
    "#memanggil elemen di indeks 0, lalu memanggil indeks 2 dari elemen yang telah di definisikan sebelumnya"
   ]
  },
  {
   "cell_type": "code",
   "execution_count": 30,
   "metadata": {},
   "outputs": [
    {
     "data": {
      "text/plain": [
       "array([[1, 2, 3],\n",
       "       [4, 5, 6]])"
      ]
     },
     "execution_count": 30,
     "metadata": {},
     "output_type": "execute_result"
    }
   ],
   "source": [
    "tes[0:2]\n",
    "#memanggil elemen di indeks 0 sampai sebelum indeks 2"
   ]
  },
  {
   "cell_type": "code",
   "execution_count": 31,
   "metadata": {},
   "outputs": [
    {
     "data": {
      "text/plain": [
       "array([3, 6])"
      ]
     },
     "execution_count": 31,
     "metadata": {},
     "output_type": "execute_result"
    }
   ],
   "source": [
    "tes[0:2, 2]\n",
    "#memanggil elemen di indeks 0 sampai sebelum indeks 2, lalu memanggil indeks 2 dari setiap elemen yang telah di definisikan sebelumnya"
   ]
  },
  {
   "cell_type": "code",
   "execution_count": 32,
   "metadata": {},
   "outputs": [
    {
     "name": "stdout",
     "output_type": "stream",
     "text": [
      "[[100   2   3]\n",
      " [  4   5   6]\n",
      " [  7   8   9]]\n"
     ]
    }
   ],
   "source": [
    "tes[0, 0] = 100\n",
    "# mengambil elemen di indeks 0, lalu memanggil indeks 0 dari elemen yang telah di definisikan sebelumnya untuk diperbarui nilainya\n",
    "print(tes)"
   ]
  },
  {
   "cell_type": "markdown",
   "metadata": {},
   "source": [
    "## 5.20.3 Matrix pada Numpy"
   ]
  },
  {
   "cell_type": "code",
   "execution_count": 33,
   "metadata": {},
   "outputs": [],
   "source": [
    "sales = np.array([[10, 12, 13],\n",
    "                  [8, 9, 10],\n",
    "                  [7, 7, 8]])"
   ]
  },
  {
   "cell_type": "code",
   "execution_count": 34,
   "metadata": {},
   "outputs": [
    {
     "data": {
      "text/plain": [
       "array([25, 28, 31])"
      ]
     },
     "execution_count": 34,
     "metadata": {},
     "output_type": "execute_result"
    }
   ],
   "source": [
    "np.sum(sales, axis=0) #axis=0 menjumlahkan secara baris (horizontal)"
   ]
  },
  {
   "cell_type": "code",
   "execution_count": 35,
   "metadata": {},
   "outputs": [
    {
     "data": {
      "text/plain": [
       "array([35, 27, 22])"
      ]
     },
     "execution_count": 35,
     "metadata": {},
     "output_type": "execute_result"
    }
   ],
   "source": [
    "np.sum(sales, axis=1) #axis=1 menjumlahkan secara kolom (vertikal)"
   ]
  },
  {
   "cell_type": "code",
   "execution_count": 36,
   "metadata": {},
   "outputs": [
    {
     "name": "stdout",
     "output_type": "stream",
     "text": [
      "[[1. 0. 0. 0.]\n",
      " [0. 1. 0. 0.]\n",
      " [0. 0. 1. 0.]\n",
      " [0. 0. 0. 1.]]\n"
     ]
    }
   ],
   "source": [
    "i = np.identity(4) # membuat matriks identitas\n",
    "print(i)"
   ]
  },
  {
   "cell_type": "markdown",
   "metadata": {},
   "source": [
    "Studi kasus : Misalkan terdapat sebuah perusahaan yang memproduksi 3 jenis produk berbeda. Data penjualan per bulan dari ketiga produk tersebut direkam dalam sebuah matriks 3x12, di mana setiap baris mewakili satu produk dan setiap kolom mewakili satu bulan."
   ]
  },
  {
   "cell_type": "code",
   "execution_count": 37,
   "metadata": {},
   "outputs": [],
   "source": [
    "sales = np.array([[100, 120, 130, 140, 150, 160, 170, 180, 190, 200, 210, 220],\n",
    "                  [80, 90, 100, 110, 120, 130, 140, 150, 160, 170, 180, 190],\n",
    "                  [70, 75, 80, 85, 90, 95, 100, 105, 110, 115, 120, 125]])"
   ]
  },
  {
   "cell_type": "markdown",
   "metadata": {},
   "source": [
    "Dalam kasus ini, kita hitung total penjualan per bulan dari ketiga produk, dengan menggunakan fungsi sum() pada objek matriks"
   ]
  },
  {
   "cell_type": "code",
   "execution_count": 38,
   "metadata": {},
   "outputs": [
    {
     "name": "stdout",
     "output_type": "stream",
     "text": [
      "[250 285 310 335 360 385 410 435 460 485 510 535]\n"
     ]
    }
   ],
   "source": [
    "total_sales = np.sum(sales, axis=0)\n",
    "print(total_sales)"
   ]
  },
  {
   "cell_type": "markdown",
   "metadata": {},
   "source": [
    "Untuk mengetahui penjualan bulan agustus, kita ambil data dari `total_sales` sebagai berikut"
   ]
  },
  {
   "cell_type": "code",
   "execution_count": 39,
   "metadata": {},
   "outputs": [
    {
     "name": "stdout",
     "output_type": "stream",
     "text": [
      "Dalam perbulan Agustus, penjualan tercapai sekitar 410 botol\n"
     ]
    }
   ],
   "source": [
    "agustus_cap = total_sales[6]\n",
    "print(f\"Dalam perbulan Agustus, penjualan tercapai sekitar {agustus_cap} botol\")"
   ]
  },
  {
   "cell_type": "markdown",
   "metadata": {},
   "source": [
    "## 5.20.4 Copy pada Numpy"
   ]
  },
  {
   "cell_type": "markdown",
   "metadata": {},
   "source": [
    "Adapun cara copy array ada tiga perkara:"
   ]
  },
  {
   "cell_type": "markdown",
   "metadata": {},
   "source": [
    "1. dengan fungsi copy()"
   ]
  },
  {
   "cell_type": "code",
   "execution_count": 40,
   "metadata": {},
   "outputs": [
    {
     "name": "stdout",
     "output_type": "stream",
     "text": [
      "Array awal:  [1 2 3 4 5]\n",
      "Array baru:  [1 2 3 4 5]\n"
     ]
    }
   ],
   "source": [
    "# membuat array awal\n",
    "arr1 = np.array([1, 2, 3, 4, 5])\n",
    "\n",
    "# menyalin isi array ke dalam array baru\n",
    "arr2 = arr1.copy()\n",
    "\n",
    "# menampilkan hasil\n",
    "print(\"Array awal: \", arr1)\n",
    "print(\"Array baru: \", arr2)"
   ]
  },
  {
   "cell_type": "markdown",
   "metadata": {},
   "source": [
    "2. dengan np.copy()"
   ]
  },
  {
   "cell_type": "code",
   "execution_count": 41,
   "metadata": {},
   "outputs": [
    {
     "name": "stdout",
     "output_type": "stream",
     "text": [
      "Array awal:  [1 2 3 4 5]\n",
      "Array baru:  [1 2 3 4 5]\n"
     ]
    }
   ],
   "source": [
    "# membuat array awal\n",
    "arr1 = np.array([1, 2, 3, 4, 5])\n",
    "\n",
    "# menyalin isi array ke dalam array baru\n",
    "arr2 = np.copy(arr1)\n",
    "\n",
    "# menampilkan hasil\n",
    "print(\"Array awal: \", arr1)\n",
    "print(\"Array baru: \", arr2)"
   ]
  },
  {
   "cell_type": "markdown",
   "metadata": {},
   "source": [
    "3. dengan slicing `:`"
   ]
  },
  {
   "cell_type": "code",
   "execution_count": 42,
   "metadata": {},
   "outputs": [
    {
     "name": "stdout",
     "output_type": "stream",
     "text": [
      "Array awal:  [1 2 3 4 5]\n",
      "Array baru:  [1 2 3 4 5]\n"
     ]
    }
   ],
   "source": [
    "# membuat array awal\n",
    "arr1 = np.array([1, 2, 3, 4, 5])\n",
    "\n",
    "# menyalin isi array ke dalam array baru\n",
    "arr2 = arr1[:]\n",
    "\n",
    "# menampilkan hasil\n",
    "print(\"Array awal: \", arr1)\n",
    "print(\"Array baru: \", arr2)\n"
   ]
  },
  {
   "cell_type": "markdown",
   "metadata": {},
   "source": [
    "## 5.20.5 Operasi Matematika pada Numpy"
   ]
  },
  {
   "cell_type": "code",
   "execution_count": 43,
   "metadata": {},
   "outputs": [],
   "source": [
    "a = np.array([[1, 2, 3], [4, 5, 6]])\n",
    "b = np.array([[4, 5, 6], [7, 8, 9]])\n",
    "c = np.array([1, 2, 3])\n",
    "d = np.array([4, 5])"
   ]
  },
  {
   "cell_type": "markdown",
   "metadata": {},
   "source": [
    "### Penambahan"
   ]
  },
  {
   "cell_type": "code",
   "execution_count": 44,
   "metadata": {},
   "outputs": [
    {
     "name": "stdout",
     "output_type": "stream",
     "text": [
      "[[ 2  4  6]\n",
      " [ 8 10 12]]\n"
     ]
    }
   ],
   "source": [
    "print(a + a)"
   ]
  },
  {
   "cell_type": "code",
   "execution_count": 45,
   "metadata": {
    "scrolled": true
   },
   "outputs": [
    {
     "name": "stdout",
     "output_type": "stream",
     "text": [
      "[[ 5  7  9]\n",
      " [11 13 15]]\n"
     ]
    }
   ],
   "source": [
    "print(a + b)"
   ]
  },
  {
   "cell_type": "code",
   "execution_count": 46,
   "metadata": {
    "scrolled": true
   },
   "outputs": [
    {
     "name": "stdout",
     "output_type": "stream",
     "text": [
      "[[2 4 6]\n",
      " [5 7 9]]\n"
     ]
    }
   ],
   "source": [
    "print(a+c)"
   ]
  },
  {
   "cell_type": "raw",
   "metadata": {},
   "source": [
    "print(a + d)\n",
    "\n",
    "## Traceback (most recent call last):\n",
    "## ValueError: operands could not be broadcast together with shapes (2,3) (2,)"
   ]
  },
  {
   "cell_type": "markdown",
   "metadata": {},
   "source": [
    "### Pengurangan"
   ]
  },
  {
   "cell_type": "code",
   "execution_count": 47,
   "metadata": {},
   "outputs": [
    {
     "name": "stdout",
     "output_type": "stream",
     "text": [
      "[[0 0 0]\n",
      " [0 0 0]]\n"
     ]
    }
   ],
   "source": [
    "print(a-a)"
   ]
  },
  {
   "cell_type": "code",
   "execution_count": 48,
   "metadata": {
    "scrolled": false
   },
   "outputs": [
    {
     "name": "stdout",
     "output_type": "stream",
     "text": [
      "[[-3 -3 -3]\n",
      " [-3 -3 -3]]\n"
     ]
    }
   ],
   "source": [
    "print(a-b)"
   ]
  },
  {
   "cell_type": "code",
   "execution_count": 49,
   "metadata": {
    "scrolled": true
   },
   "outputs": [
    {
     "name": "stdout",
     "output_type": "stream",
     "text": [
      "[[0 0 0]\n",
      " [3 3 3]]\n"
     ]
    }
   ],
   "source": [
    "print(a-c)"
   ]
  },
  {
   "cell_type": "raw",
   "metadata": {},
   "source": [
    "print(a-d)\n",
    "\n",
    "## Traceback (most recent call last):\n",
    "## ValueError: operands could not be broadcast together with shapes (2,3) (2,)"
   ]
  },
  {
   "cell_type": "markdown",
   "metadata": {},
   "source": [
    "### Pembagian"
   ]
  },
  {
   "cell_type": "code",
   "execution_count": 50,
   "metadata": {
    "scrolled": true
   },
   "outputs": [
    {
     "name": "stdout",
     "output_type": "stream",
     "text": [
      "[[1. 1. 1.]\n",
      " [1. 1. 1.]]\n"
     ]
    }
   ],
   "source": [
    "print(a/a)"
   ]
  },
  {
   "cell_type": "code",
   "execution_count": 51,
   "metadata": {
    "scrolled": false
   },
   "outputs": [
    {
     "name": "stdout",
     "output_type": "stream",
     "text": [
      "[[0.25       0.4        0.5       ]\n",
      " [0.57142857 0.625      0.66666667]]\n"
     ]
    }
   ],
   "source": [
    "print(a/b)"
   ]
  },
  {
   "cell_type": "code",
   "execution_count": 52,
   "metadata": {
    "scrolled": true
   },
   "outputs": [
    {
     "name": "stdout",
     "output_type": "stream",
     "text": [
      "[[1.  1.  1. ]\n",
      " [4.  2.5 2. ]]\n"
     ]
    }
   ],
   "source": [
    "print(a/c)"
   ]
  },
  {
   "cell_type": "raw",
   "metadata": {},
   "source": [
    "print(a/d)\n",
    "\n",
    "## Traceback (most recent call last):\n",
    "## ValueError: operands could not be broadcast together with shapes (2,3) (2,)"
   ]
  },
  {
   "cell_type": "markdown",
   "metadata": {},
   "source": [
    "### Pembagian Bulat"
   ]
  },
  {
   "cell_type": "code",
   "execution_count": 53,
   "metadata": {
    "scrolled": true
   },
   "outputs": [
    {
     "name": "stdout",
     "output_type": "stream",
     "text": [
      "[[1 1 1]\n",
      " [1 1 1]]\n"
     ]
    }
   ],
   "source": [
    "print(a//a)"
   ]
  },
  {
   "cell_type": "raw",
   "metadata": {},
   "source": [
    "print(a/d)\n",
    "\n",
    "## Traceback (most recent call last):\n",
    "## ValueError: operands could not be broadcast together with shapes (2,3) (2,)"
   ]
  },
  {
   "cell_type": "markdown",
   "metadata": {},
   "source": [
    "###  Modulo"
   ]
  },
  {
   "cell_type": "code",
   "execution_count": 54,
   "metadata": {
    "scrolled": true
   },
   "outputs": [
    {
     "name": "stdout",
     "output_type": "stream",
     "text": [
      "[[1 2 3]\n",
      " [4 5 6]]\n"
     ]
    }
   ],
   "source": [
    "print(a%b)"
   ]
  },
  {
   "cell_type": "raw",
   "metadata": {},
   "source": [
    "print(a%d)\n",
    "\n",
    "## Traceback (most recent call last):\n",
    "## ValueError: operands could not be broadcast together with shapes (2,3) (2,)"
   ]
  },
  {
   "cell_type": "markdown",
   "metadata": {},
   "source": [
    "###  Akar"
   ]
  },
  {
   "cell_type": "code",
   "execution_count": 55,
   "metadata": {
    "scrolled": false
   },
   "outputs": [
    {
     "name": "stdout",
     "output_type": "stream",
     "text": [
      "[[1.         1.41421356 1.73205081]\n",
      " [2.         2.23606798 2.44948974]]\n"
     ]
    }
   ],
   "source": [
    "print(a**(1/2))"
   ]
  },
  {
   "cell_type": "code",
   "execution_count": 56,
   "metadata": {
    "scrolled": false
   },
   "outputs": [
    {
     "name": "stdout",
     "output_type": "stream",
     "text": [
      "[[1.         1.41421356 1.44224957]\n",
      " [1.41421356 1.37972966 1.34800615]]\n"
     ]
    }
   ],
   "source": [
    "print(a**(1/a))"
   ]
  },
  {
   "cell_type": "raw",
   "metadata": {},
   "source": [
    "print(a**(1/d))\n",
    "\n",
    "## Traceback (most recent call last):\n",
    "## ValueError: operands could not be broadcast together with shapes (2,3) (2,)"
   ]
  },
  {
   "cell_type": "markdown",
   "metadata": {},
   "source": [
    "###  Pangkat"
   ]
  },
  {
   "cell_type": "code",
   "execution_count": 57,
   "metadata": {
    "scrolled": true
   },
   "outputs": [
    {
     "name": "stdout",
     "output_type": "stream",
     "text": [
      "[[ 1  4  9]\n",
      " [16 25 36]]\n"
     ]
    }
   ],
   "source": [
    "print(a**2)"
   ]
  },
  {
   "cell_type": "code",
   "execution_count": 58,
   "metadata": {
    "scrolled": false
   },
   "outputs": [
    {
     "name": "stdout",
     "output_type": "stream",
     "text": [
      "[[    1     4    27]\n",
      " [  256  3125 46656]]\n"
     ]
    }
   ],
   "source": [
    "print(a**a)"
   ]
  },
  {
   "cell_type": "raw",
   "metadata": {},
   "source": [
    "print(a**(d))\n",
    "\n",
    "## Traceback (most recent call last):\n",
    "## ValueError: operands could not be broadcast together with shapes (2,3) (2,)"
   ]
  },
  {
   "cell_type": "markdown",
   "metadata": {},
   "source": [
    "### Perkalian array"
   ]
  },
  {
   "cell_type": "markdown",
   "metadata": {},
   "source": [
    "* Multiplication * remains elementwise\n",
    "* Tidak ada hubungannya dengan perkalian matriks"
   ]
  },
  {
   "cell_type": "code",
   "execution_count": 59,
   "metadata": {
    "scrolled": true
   },
   "outputs": [
    {
     "name": "stdout",
     "output_type": "stream",
     "text": [
      "[[ 2  4  6]\n",
      " [ 8 10 12]]\n"
     ]
    }
   ],
   "source": [
    "print(a*2)"
   ]
  },
  {
   "cell_type": "code",
   "execution_count": 67,
   "metadata": {
    "scrolled": false
   },
   "outputs": [
    {
     "name": "stdout",
     "output_type": "stream",
     "text": [
      "[[ 4 10 18]\n",
      " [28 40 54]]\n"
     ]
    }
   ],
   "source": [
    "a = np.array([[1, 2, 3], [4, 5, 6]])\n",
    "b = np.array([[4, 5, 6], [7, 8, 9]])\n",
    "\n",
    "print(a*b)"
   ]
  },
  {
   "cell_type": "raw",
   "metadata": {},
   "source": [
    "print(a*d)\n",
    "\n",
    "## Traceback (most recent call last):\n",
    "## ValueError: operands could not be broadcast together with shapes (2,3) (2,)"
   ]
  },
  {
   "cell_type": "markdown",
   "metadata": {},
   "source": [
    "## 5.20.6 Perkalian Matrik pada Numpy"
   ]
  },
  {
   "cell_type": "markdown",
   "metadata": {},
   "source": [
    "Terdapat dua cara perkalian matriks di array numpy\n",
    "\n",
    "1. dengan @"
   ]
  },
  {
   "cell_type": "code",
   "execution_count": 64,
   "metadata": {
    "scrolled": true
   },
   "outputs": [
    {
     "name": "stdout",
     "output_type": "stream",
     "text": [
      "[[22 28]\n",
      " [49 64]]\n"
     ]
    }
   ],
   "source": [
    "a = np.array([[1, 2, 3],\n",
    "              [4, 5, 6]])\n",
    "\n",
    "b = np.array([[1, 2],\n",
    "              [3, 4],\n",
    "              [5, 6]])\n",
    "\n",
    "print(a @ b)"
   ]
  },
  {
   "cell_type": "markdown",
   "metadata": {},
   "source": [
    "2. dengan numpy.matmul()"
   ]
  },
  {
   "cell_type": "code",
   "execution_count": 63,
   "metadata": {
    "scrolled": false
   },
   "outputs": [
    {
     "name": "stdout",
     "output_type": "stream",
     "text": [
      "[[22 28]\n",
      " [49 64]]\n"
     ]
    }
   ],
   "source": [
    "m = np.matmul(a, b)\n",
    "print(m)"
   ]
  },
  {
   "cell_type": "markdown",
   "metadata": {},
   "source": [
    "Sama hal di dalam matriks seperti di matematika, matriks bisa di kalikan jika sebuah matriks (m, k) dan (k, n)"
   ]
  },
  {
   "cell_type": "code",
   "execution_count": 65,
   "metadata": {},
   "outputs": [
    {
     "ename": "ValueError",
     "evalue": "matmul: Input operand 1 has a mismatch in its core dimension 0, with gufunc signature (n?,k),(k,m?)->(n?,m?) (size 2 is different from 3)",
     "output_type": "error",
     "traceback": [
      "\u001b[1;31m---------------------------------------------------------------------------\u001b[0m",
      "\u001b[1;31mValueError\u001b[0m                                Traceback (most recent call last)",
      "Input \u001b[1;32mIn [65]\u001b[0m, in \u001b[0;36m<cell line: 7>\u001b[1;34m()\u001b[0m\n\u001b[0;32m      1\u001b[0m a \u001b[38;5;241m=\u001b[39m np\u001b[38;5;241m.\u001b[39marray([[\u001b[38;5;241m1\u001b[39m, \u001b[38;5;241m2\u001b[39m, \u001b[38;5;241m3\u001b[39m],\n\u001b[0;32m      2\u001b[0m               [\u001b[38;5;241m4\u001b[39m, \u001b[38;5;241m5\u001b[39m, \u001b[38;5;241m6\u001b[39m]])\n\u001b[0;32m      4\u001b[0m b \u001b[38;5;241m=\u001b[39m np\u001b[38;5;241m.\u001b[39marray([[\u001b[38;5;241m4\u001b[39m, \u001b[38;5;241m5\u001b[39m, \u001b[38;5;241m6\u001b[39m],\n\u001b[0;32m      5\u001b[0m               [\u001b[38;5;241m7\u001b[39m, \u001b[38;5;241m8\u001b[39m, \u001b[38;5;241m9\u001b[39m]])\n\u001b[1;32m----> 7\u001b[0m \u001b[43ma\u001b[49m\u001b[43m \u001b[49m\u001b[38;5;241;43m@\u001b[39;49m\u001b[43m \u001b[49m\u001b[43mb\u001b[49m\n",
      "\u001b[1;31mValueError\u001b[0m: matmul: Input operand 1 has a mismatch in its core dimension 0, with gufunc signature (n?,k),(k,m?)->(n?,m?) (size 2 is different from 3)"
     ]
    }
   ],
   "source": [
    "a = np.array([[1, 2, 3],\n",
    "              [4, 5, 6]])\n",
    "\n",
    "b = np.array([[4, 5, 6],\n",
    "              [7, 8, 9]])\n",
    "\n",
    "a @ b  # matriks tidak bisa dikalikan"
   ]
  },
  {
   "cell_type": "markdown",
   "metadata": {},
   "source": [
    "## 5.20.7 min, max dan sum pada Numpy"
   ]
  },
  {
   "cell_type": "markdown",
   "metadata": {},
   "source": [
    "Sebuah data berupa daftar nilai ujian siswa dalam bentuk array numpy:"
   ]
  },
  {
   "cell_type": "code",
   "execution_count": 68,
   "metadata": {},
   "outputs": [],
   "source": [
    "nilai_ujian = np.array([80, 85, 90, 75, 95, 88, 92, 79])"
   ]
  },
  {
   "cell_type": "markdown",
   "metadata": {},
   "source": [
    "untuk mencari nilai minimum dan maksimum dari data tersebut, gunakan fungsi min() dan max() pada numpy"
   ]
  },
  {
   "cell_type": "code",
   "execution_count": 71,
   "metadata": {},
   "outputs": [
    {
     "name": "stdout",
     "output_type": "stream",
     "text": [
      "Nilai terkecil adalah : 75\n",
      "Nilai terbesar adalah : 95\n"
     ]
    }
   ],
   "source": [
    "nilai_min = np.min(nilai_ujian)\n",
    "nilai_max = np.max(nilai_ujian)\n",
    "\n",
    "print(\"Nilai terkecil adalah :\", nilai_min)\n",
    "print(\"Nilai terbesar adalah :\", nilai_max)\n"
   ]
  },
  {
   "cell_type": "markdown",
   "metadata": {},
   "source": [
    "untuk mencari jumlah dari data tersebut, gunakan fungsi `sum()` pada numpy"
   ]
  },
  {
   "cell_type": "code",
   "execution_count": 73,
   "metadata": {},
   "outputs": [
    {
     "name": "stdout",
     "output_type": "stream",
     "text": [
      "Jumlah nilai: 684\n"
     ]
    }
   ],
   "source": [
    "jumlah_nilai = np.sum(nilai_ujian)\n",
    "\n",
    "print(\"Jumlah nilai:\", jumlah_nilai)"
   ]
  }
 ],
 "metadata": {
  "kernelspec": {
   "display_name": "Python 3 (ipykernel)",
   "language": "python",
   "name": "python3"
  },
  "language_info": {
   "codemirror_mode": {
    "name": "ipython",
    "version": 3
   },
   "file_extension": ".py",
   "mimetype": "text/x-python",
   "name": "python",
   "nbconvert_exporter": "python",
   "pygments_lexer": "ipython3",
   "version": "3.9.12"
  },
  "vscode": {
   "interpreter": {
    "hash": "7a286ab6d5ab74b05f6cc6b941ab3ce081a560bdbb737203550dcb0debd96964"
   }
  }
 },
 "nbformat": 4,
 "nbformat_minor": 2
}
