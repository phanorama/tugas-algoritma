{
  "cells": [
    {
      "cell_type": "markdown",
      "metadata": {
        "id": "1gcSF8FsUrYK"
      },
      "source": [
        "#Print\n",
        "Perintah ini akan mencetak tulisan yang ada di dalam tanda print(” ”) atau\n",
        "print(’ ’)."
      ]
    },
    {
      "cell_type": "code",
      "execution_count": 1,
      "metadata": {
        "colab": {
          "base_uri": "https://localhost:8080/"
        },
        "id": "9BeNZISdUo9J",
        "outputId": "a74aecb1-7d65-4264-b670-b547a306c4e2"
      },
      "outputs": [
        {
          "name": "stdout",
          "output_type": "stream",
          "text": [
            "Hello World\n"
          ]
        }
      ],
      "source": [
        "print(\"Hello World\")"
      ]
    },
    {
      "cell_type": "code",
      "execution_count": 2,
      "metadata": {
        "colab": {
          "base_uri": "https://localhost:8080/"
        },
        "id": "mGZd3RI1VLys",
        "outputId": "47fe9caa-8e58-4175-87fe-6db4fa6a3602"
      },
      "outputs": [
        {
          "name": "stdout",
          "output_type": "stream",
          "text": [
            "Badanku terasa gatal\n"
          ]
        }
      ],
      "source": [
        "print('Badanku terasa gatal')"
      ]
    },
    {
      "cell_type": "markdown",
      "metadata": {
        "id": "vysfE0QzVn-W"
      },
      "source": [
        "#Variabel\n"
      ]
    },
    {
      "cell_type": "code",
      "execution_count": 3,
      "metadata": {
        "colab": {
          "base_uri": "https://localhost:8080/"
        },
        "id": "bOGPP5hWZAjP",
        "outputId": "68429b46-2e99-4678-f8f6-77afd9cbaf08"
      },
      "outputs": [
        {
          "name": "stdout",
          "output_type": "stream",
          "text": [
            "250000\n"
          ]
        }
      ],
      "source": [
        "saldo = 250000\n",
        "print(saldo)"
      ]
    },
    {
      "cell_type": "code",
      "execution_count": 4,
      "metadata": {
        "colab": {
          "base_uri": "https://localhost:8080/"
        },
        "id": "Aj7X-uwSZME4",
        "outputId": "85f88655-0b1b-45fa-f7f0-e8a2b830851f"
      },
      "outputs": [
        {
          "name": "stdout",
          "output_type": "stream",
          "text": [
            "mamalia\n"
          ]
        }
      ],
      "source": [
        "spesies = \"mamalia\"\n",
        "print(spesies)"
      ]
    },
    {
      "cell_type": "markdown",
      "metadata": {
        "id": "drE_dygQZo-u"
      },
      "source": [
        "Jenis-jenis penulisan variabel yang paling umum digunakan di py\n",
        "\n",
        "\n",
        "*   Camel Case\n",
        "*   Snake Case\n",
        "* Pascal Case\n",
        "\n",
        "\n"
      ]
    },
    {
      "cell_type": "code",
      "execution_count": 5,
      "metadata": {
        "id": "Z3g0AJOWaXGG"
      },
      "outputs": [],
      "source": [
        "namaDepan = \"Ucup\" #camel case\n",
        "nama_depan = \"Ucup\" #snake case\n",
        "NamaDepan = \"Ucup\" #pascal case"
      ]
    },
    {
      "cell_type": "markdown",
      "metadata": {
        "id": "OmGiUPA5a_Xf"
      },
      "source": [
        "# Tipe Data Bawaan"
      ]
    },
    {
      "cell_type": "markdown",
      "metadata": {
        "id": "tew9-gfqbTli"
      },
      "source": [
        "Terdapat tiga tipe data pada Python yaitu:\n",
        "\n",
        "* Number\n",
        "* Boolean\n",
        "* String"
      ]
    },
    {
      "cell_type": "code",
      "execution_count": 6,
      "metadata": {
        "colab": {
          "base_uri": "https://localhost:8080/"
        },
        "id": "w8A2Unqcbp6v",
        "outputId": "c6086912-fac7-4867-ad12-89d5ac8b30e1"
      },
      "outputs": [
        {
          "name": "stdout",
          "output_type": "stream",
          "text": [
            "10 bertipe <class 'int'>\n",
            "1.7 bertipe <class 'float'>\n",
            "(1+2j)  Bertipe bilangan kompleks?  True\n"
          ]
        }
      ],
      "source": [
        "# Number\n",
        "\n",
        "#int\n",
        "a = 10\n",
        "print(a, \"bertipe\", type(a))\n",
        "\n",
        "#float\n",
        "b = 1.7\n",
        "print(b, \"bertipe\", type(b))\n",
        "\n",
        "#complex\n",
        "c = 1+2j\n",
        "print(c, \" Bertipe bilangan kompleks? \", isinstance(1+2j,complex))"
      ]
    },
    {
      "cell_type": "code",
      "execution_count": 7,
      "metadata": {
        "colab": {
          "base_uri": "https://localhost:8080/"
        },
        "id": "VhQ6xRjHcHQf",
        "outputId": "9e995bca-368a-4e9a-b5f0-fbfa9436b4ff"
      },
      "outputs": [
        {
          "data": {
            "text/plain": [
              "bool"
            ]
          },
          "execution_count": 7,
          "metadata": {},
          "output_type": "execute_result"
        }
      ],
      "source": [
        "#Boolean\n",
        "\n",
        "boolean = True\n",
        "type(boolean)"
      ]
    },
    {
      "cell_type": "code",
      "execution_count": 8,
      "metadata": {
        "colab": {
          "base_uri": "https://localhost:8080/"
        },
        "id": "rrULB6z_cprI",
        "outputId": "9785517a-1403-43ad-b9de-be24b36881ab"
      },
      "outputs": [
        {
          "name": "stdout",
          "output_type": "stream",
          "text": [
            "Ini adalah string\n",
            "yang memiliki baris pertama\n",
            "dan selanjutnya baris kedua\n"
          ]
        }
      ],
      "source": [
        "# String\n",
        "\n",
        "stringTunggal = \"Ini adalah string baris tunggal\"\n",
        "\n",
        "stringGanda = '''Ini adalah string\n",
        "yang memiliki baris pertama\n",
        "dan selanjutnya baris kedua'''\n",
        "\n",
        "print(stringGanda)"
      ]
    },
    {
      "cell_type": "markdown",
      "metadata": {
        "id": "rIVmSNS5dhxY"
      },
      "source": [
        "# I/O Python"
      ]
    },
    {
      "cell_type": "markdown",
      "metadata": {
        "id": "MZlh5KNldqwW"
      },
      "source": [
        "## Output print"
      ]
    },
    {
      "cell_type": "code",
      "execution_count": 9,
      "metadata": {
        "colab": {
          "base_uri": "https://localhost:8080/"
        },
        "id": "rkEr1wUAeQzL",
        "outputId": "c8f551c1-799e-47aa-b7b2-b34ee8743489"
      },
      "outputs": [
        {
          "name": "stdout",
          "output_type": "stream",
          "text": [
            "hai bro\n"
          ]
        }
      ],
      "source": [
        "print('hai {}'.format('bro'))"
      ]
    },
    {
      "cell_type": "code",
      "execution_count": 10,
      "metadata": {
        "colab": {
          "base_uri": "https://localhost:8080/"
        },
        "id": "0sVDeCYreYPH",
        "outputId": "68dd0a1b-35b0-4d75-9bd5-6f175a2e2006"
      },
      "outputs": [
        {
          "name": "stdout",
          "output_type": "stream",
          "text": [
            "Halo, bro!\n"
          ]
        }
      ],
      "source": [
        "nama = \"bro\"\n",
        "print(\"Halo, %s!\" % nama)"
      ]
    },
    {
      "cell_type": "markdown",
      "metadata": {
        "id": "MLCxsOlJey5l"
      },
      "source": [
        "## Input > input()"
      ]
    },
    {
      "cell_type": "code",
      "execution_count": 11,
      "metadata": {
        "colab": {
          "base_uri": "https://localhost:8080/"
        },
        "id": "SkTjl69He80H",
        "outputId": "83af02e5-d426-40cb-ecc1-31573e9381ef"
      },
      "outputs": [
        {
          "name": "stdout",
          "output_type": "stream",
          "text": [
            "Masukkan angka : 90\n",
            "90\n"
          ]
        }
      ],
      "source": [
        "nilai = input('Masukkan angka : ')\n",
        "print(nilai)"
      ]
    },
    {
      "cell_type": "markdown",
      "metadata": {
        "id": "cfFgebQ_fHwp"
      },
      "source": [
        "Secara default, input dari user adalah string (walaupun pada contoh di atas, 90 sebenarnya dimaksudkan sebagai integer) yang ditandai dengan petik. Untuk itu diperlukan fungsi konversi, misalnya int() dan float()."
      ]
    },
    {
      "cell_type": "code",
      "execution_count": 12,
      "metadata": {
        "colab": {
          "base_uri": "https://localhost:8080/"
        },
        "id": "Xk4-486UfMdL",
        "outputId": "44ddc9df-30a4-4607-a25d-7a5f52749c13"
      },
      "outputs": [
        {
          "name": "stdout",
          "output_type": "stream",
          "text": [
            "90\n"
          ]
        }
      ],
      "source": [
        "print(int(nilai))"
      ]
    },
    {
      "cell_type": "code",
      "execution_count": 13,
      "metadata": {
        "colab": {
          "base_uri": "https://localhost:8080/"
        },
        "id": "sijp5aj-fUqP",
        "outputId": "c18ac616-8a6f-490c-f16d-93873f87f7e9"
      },
      "outputs": [
        {
          "name": "stdout",
          "output_type": "stream",
          "text": [
            "90.0\n"
          ]
        }
      ],
      "source": [
        "print(float(nilai))"
      ]
    },
    {
      "cell_type": "code",
      "execution_count": 14,
      "metadata": {
        "colab": {
          "base_uri": "https://localhost:8080/",
          "height": 166
        },
        "id": "RH78ESBOfeo-",
        "outputId": "ac3c27a6-7769-4052-ed6b-b8c829422992"
      },
      "outputs": [
        {
          "ename": "ValueError",
          "evalue": "ignored",
          "output_type": "error",
          "traceback": [
            "\u001b[0;31m---------------------------------------------------------------------------\u001b[0m",
            "\u001b[0;31mValueError\u001b[0m                                Traceback (most recent call last)",
            "\u001b[0;32m<ipython-input-14-52c960fe3128>\u001b[0m in \u001b[0;36m<module>\u001b[0;34m\u001b[0m\n\u001b[0;32m----> 1\u001b[0;31m \u001b[0mprint\u001b[0m\u001b[0;34m(\u001b[0m\u001b[0mint\u001b[0m\u001b[0;34m(\u001b[0m\u001b[0;34m'90+10'\u001b[0m\u001b[0;34m)\u001b[0m\u001b[0;34m)\u001b[0m\u001b[0;34m\u001b[0m\u001b[0;34m\u001b[0m\u001b[0m\n\u001b[0m",
            "\u001b[0;31mValueError\u001b[0m: invalid literal for int() with base 10: '90+10'"
          ]
        }
      ],
      "source": [
        "print(int('90+10'))"
      ]
    },
    {
      "cell_type": "markdown",
      "metadata": {
        "id": "TdatcnZiflHu"
      },
      "source": [
        "Catatatan kaki : Jika input merupakan string berisi ekspresi matematika, maka konversi dengan int() atau float() akan menghasilkan error, dapat menggunakan fungsi eval() yang sekaligus juga berfungsi menyelesaikan ekspresi matematika"
      ]
    },
    {
      "cell_type": "code",
      "execution_count": 15,
      "metadata": {
        "colab": {
          "base_uri": "https://localhost:8080/"
        },
        "id": "yEzjn51ifrqP",
        "outputId": "64934668-0a8a-4e0f-c86b-c2e5cbb79134"
      },
      "outputs": [
        {
          "name": "stdout",
          "output_type": "stream",
          "text": [
            "100\n"
          ]
        }
      ],
      "source": [
        "print(eval('90+10'))"
      ]
    },
    {
      "cell_type": "markdown",
      "metadata": {
        "id": "WpIfZAc5f6Hp"
      },
      "source": [
        "# Formatted String"
      ]
    },
    {
      "cell_type": "markdown",
      "metadata": {
        "id": "mUHtxlFUigjY"
      },
      "source": [
        "Formatted string digunakan untuk mempermudah penulisan nilai variabel yang\n",
        "ingin dicetak pada perintah print."
      ]
    },
    {
      "cell_type": "markdown",
      "metadata": {
        "id": "xv6eZ6bSmCeW"
      },
      "source": [
        "tanpa f-string 😟"
      ]
    },
    {
      "cell_type": "code",
      "execution_count": 20,
      "metadata": {
        "colab": {
          "base_uri": "https://localhost:8080/"
        },
        "id": "BEPMTRPsf7vV",
        "outputId": "d485f18a-7fd8-4189-e59e-0e570200a2fb"
      },
      "outputs": [
        {
          "name": "stdout",
          "output_type": "stream",
          "text": [
            "Pemilik kucing manggil kucingnya di Australi : push-push-push :>\n"
          ]
        }
      ],
      "source": [
        "catGermany ='stardenburdenhardenbart'\n",
        "catAussie = 'push-push-push'\n",
        "print(\"Pemilik kucing manggil kucingnya di Australi : \" + catAussie + \" :>\")"
      ]
    },
    {
      "cell_type": "markdown",
      "metadata": {
        "id": "_G3qyyJRlzHP"
      },
      "source": [
        "dengan f-string 😎"
      ]
    },
    {
      "cell_type": "code",
      "execution_count": 19,
      "metadata": {
        "colab": {
          "base_uri": "https://localhost:8080/"
        },
        "id": "D3izkc6IkduD",
        "outputId": "9b876d66-c040-406e-9451-4ee888298ee2"
      },
      "outputs": [
        {
          "name": "stdout",
          "output_type": "stream",
          "text": [
            "Pemilik kucing manggil kucingnya di jerman : stardenburdenhardenbart '_'\n"
          ]
        }
      ],
      "source": [
        "print(f\"Pemilik kucing manggil kucingnya di jerman : {catGermany} '_'\")"
      ]
    }
  ],
  "metadata": {
    "colab": {
      "provenance": []
    },
    "kernelspec": {
      "display_name": "Python 3.10.5 64-bit",
      "language": "python",
      "name": "python3"
    },
    "language_info": {
      "name": "python",
      "version": "3.10.5"
    },
    "vscode": {
      "interpreter": {
        "hash": "7a286ab6d5ab74b05f6cc6b941ab3ce081a560bdbb737203550dcb0debd96964"
      }
    }
  },
  "nbformat": 4,
  "nbformat_minor": 0
}
