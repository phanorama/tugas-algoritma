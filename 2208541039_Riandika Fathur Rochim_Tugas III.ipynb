{
 "cells": [
  {
   "cell_type": "markdown",
   "metadata": {},
   "source": [
    "# Minggu ke-3"
   ]
  },
  {
   "cell_type": "markdown",
   "metadata": {},
   "source": [
    "Dalam minggu ke-3 ini, kita mempelajari sebuah teknik manipulasi data, pengambilan data dari sebuah string, sebelum adapun contoh variabel yang akan digunakan untuk minggu ini"
   ]
  },
  {
   "cell_type": "code",
   "execution_count": 1,
   "metadata": {},
   "outputs": [],
   "source": [
    "pesanSingkat = \"Halo Civitas Udayana, kami akan tiba disana sebentar lagi\""
   ]
  },
  {
   "cell_type": "markdown",
   "metadata": {},
   "source": [
    "Catatan kaki : String bersifat Immutable"
   ]
  },
  {
   "cell_type": "markdown",
   "metadata": {},
   "source": [
    "# 5.5 String Index"
   ]
  },
  {
   "cell_type": "markdown",
   "metadata": {},
   "source": [
    "Python mengenal slicing operator [] yang dapat melakukan ekstraksi sebuah item atau beberapa item yang berada dalam range tertentu pada tipe data urutan (sequences), misalnya list, string dan tuple."
   ]
  },
  {
   "cell_type": "markdown",
   "metadata": {},
   "source": [
    "* pesanSingkat[0] artinya mengambil elemen paling awal, dengan index 0 dari string pesanSingkat\n",
    "* pesanSingkat[3] artinya mengambil elemen paling awal, dengan index 3 dari string pesanSingkat\n",
    "* pesanSingkat[-1] artinya mengambil elemen paling akhir, paling kebelakang ke-1 dari string pesanSingkat"
   ]
  },
  {
   "cell_type": "code",
   "execution_count": 20,
   "metadata": {},
   "outputs": [
    {
     "name": "stdout",
     "output_type": "stream",
     "text": [
      "H\n",
      "o\n",
      "i\n"
     ]
    }
   ],
   "source": [
    "print(pesanSingkat[0])\n",
    "print(pesanSingkat[3])\n",
    "print(pesanSingkat[-1])"
   ]
  },
  {
   "cell_type": "markdown",
   "metadata": {},
   "source": [
    "* pesanSingkat[0:8] artinya membuat string dari anggota elemen string pesanSingkat dengan index 0 hingga sebelum index 8 (tidak termasuk elemen dengan index 8, dalam hal ini hanya index 0-7)\n",
    "* pesanSingkat[0:] artinya membuat string dari anggota string pesanSingkat dengan index 0 hingga paling ke belakang \n",
    "* pesanSingkat[:-5] artinya membuat string dari anggota elemen string pesanSingkat paling awal hingga sebelum index 5 yang paling belakang"
   ]
  },
  {
   "cell_type": "code",
   "execution_count": 24,
   "metadata": {},
   "outputs": [
    {
     "name": "stdout",
     "output_type": "stream",
     "text": [
      "Halo Civ\n",
      "Halo Civitas Udayana, kami akan tiba disana sebentar lagi\n",
      "Halo Civitas Udayana, kami akan tiba disana sebentar\n",
      "Halo Civitas Udayana, kami akan tiba disana sebentar lagi\n"
     ]
    }
   ],
   "source": [
    "print(pesanSingkat[0:8])\n",
    "print(pesanSingkat[0:])\n",
    "print(pesanSingkat[:-5])\n",
    "print(pesanSingkat[:])"
   ]
  },
  {
   "cell_type": "markdown",
   "metadata": {},
   "source": [
    "* pesanSingkat[0:8:2] artinya membuat list dari anggota elemen List x dengan index 0 hingga sebelum index 8, dengan \"step\" 2 "
   ]
  },
  {
   "cell_type": "code",
   "execution_count": 22,
   "metadata": {},
   "outputs": [
    {
     "name": "stdout",
     "output_type": "stream",
     "text": [
      "Hl i\n",
      "Hl iia dyn,km kntb iaasbna ai\n",
      "Halo Civitas Udayana, kami akan tiba disana sebentar lagi\n",
      "Halo Civi\n",
      " Civitas Udayana, kami akan tiba disana sebentar lagi\n",
      "irbn    ysia\n"
     ]
    }
   ],
   "source": [
    "print(pesanSingkat[0:8:2])\n",
    "print(pesanSingkat[::2])\n",
    "print(pesanSingkat[::])\n",
    "print(pesanSingkat[:9:])\n",
    "print(pesanSingkat[4::])\n",
    "print(pesanSingkat[-1::-5])"
   ]
  },
  {
   "cell_type": "markdown",
   "metadata": {},
   "source": [
    "# 5.6 String Methods"
   ]
  },
  {
   "cell_type": "code",
   "execution_count": 12,
   "metadata": {},
   "outputs": [
    {
     "name": "stdout",
     "output_type": "stream",
     "text": [
      "57\n"
     ]
    }
   ],
   "source": [
    "print(len(pesanSingkat))"
   ]
  },
  {
   "cell_type": "code",
   "execution_count": 13,
   "metadata": {},
   "outputs": [
    {
     "data": {
      "text/plain": [
       "'HALO CIVITAS UDAYANA, KAMI AKAN TIBA DISANA SEBENTAR LAGI'"
      ]
     },
     "execution_count": 13,
     "metadata": {},
     "output_type": "execute_result"
    }
   ],
   "source": [
    "pesanSingkat.upper()"
   ]
  },
  {
   "cell_type": "code",
   "execution_count": 14,
   "metadata": {},
   "outputs": [
    {
     "data": {
      "text/plain": [
       "'halo civitas udayana, kami akan tiba disana sebentar lagi'"
      ]
     },
     "execution_count": 14,
     "metadata": {},
     "output_type": "execute_result"
    }
   ],
   "source": [
    "pesanSingkat.lower()"
   ]
  },
  {
   "cell_type": "code",
   "execution_count": 15,
   "metadata": {},
   "outputs": [
    {
     "data": {
      "text/plain": [
       "13"
      ]
     },
     "execution_count": 15,
     "metadata": {},
     "output_type": "execute_result"
    }
   ],
   "source": [
    "pesanSingkat.find('Udayana')"
   ]
  },
  {
   "cell_type": "code",
   "execution_count": 16,
   "metadata": {},
   "outputs": [
    {
     "data": {
      "text/plain": [
       "-1"
      ]
     },
     "execution_count": 16,
     "metadata": {},
     "output_type": "execute_result"
    }
   ],
   "source": [
    "pesanSingkat.find('bali')"
   ]
  },
  {
   "cell_type": "code",
   "execution_count": 26,
   "metadata": {},
   "outputs": [
    {
     "data": {
      "text/plain": [
       "'Halo Civitas Gadjah mada, kami akan tiba disana sebentar lagi'"
      ]
     },
     "execution_count": 26,
     "metadata": {},
     "output_type": "execute_result"
    }
   ],
   "source": [
    "pesanSingkat.replace('Udayana', 'Gadjah mada')"
   ]
  },
  {
   "cell_type": "code",
   "execution_count": 27,
   "metadata": {},
   "outputs": [
    {
     "data": {
      "text/plain": [
       "'Halo Civitas Udayana, kami akan tiba disana sebentar lagi'"
      ]
     },
     "execution_count": 27,
     "metadata": {},
     "output_type": "execute_result"
    }
   ],
   "source": [
    "pesanSingkat.replace('Gadjah mada', 'Udayana')"
   ]
  },
  {
   "cell_type": "code",
   "execution_count": 28,
   "metadata": {},
   "outputs": [
    {
     "name": "stdout",
     "output_type": "stream",
     "text": [
      "True\n"
     ]
    }
   ],
   "source": [
    "print('lagi' in pesanSingkat)"
   ]
  },
  {
   "cell_type": "markdown",
   "metadata": {},
   "source": [
    "# 5.7 Operasi matematika pada bilangan di python"
   ]
  },
  {
   "cell_type": "code",
   "execution_count": 30,
   "metadata": {},
   "outputs": [
    {
     "name": "stdout",
     "output_type": "stream",
     "text": [
      "5\n",
      "-1\n",
      "0.6666666666666666\n",
      "6\n",
      "0\n",
      "2\n",
      "8\n"
     ]
    }
   ],
   "source": [
    "print(2+3)\n",
    "print(2-3)\n",
    "print(2/3)\n",
    "print(2*3)\n",
    "print(2//3)\n",
    "print(2%3)\n",
    "print(2**3)"
   ]
  },
  {
   "cell_type": "code",
   "execution_count": 32,
   "metadata": {},
   "outputs": [
    {
     "name": "stdout",
     "output_type": "stream",
     "text": [
      "1\n"
     ]
    }
   ],
   "source": [
    "x=3\n",
    "\n",
    "#Augemented Operator pada perkalian\n",
    "x *= 3\n",
    "print(x)"
   ]
  },
  {
   "cell_type": "markdown",
   "metadata": {},
   "source": [
    "Catatan kaki : Augemented Operator berlaku untuk semua operasi matematika bilangan"
   ]
  },
  {
   "cell_type": "markdown",
   "metadata": {},
   "source": [
    "# 5.8 Operator Perbandingan di Python"
   ]
  },
  {
   "cell_type": "code",
   "execution_count": 36,
   "metadata": {},
   "outputs": [
    {
     "name": "stdout",
     "output_type": "stream",
     "text": [
      "False\n",
      "True\n",
      "False\n",
      "True\n",
      "False\n",
      "True\n"
     ]
    }
   ],
   "source": [
    "print(2 > 4)\n",
    "print(2 < 4)\n",
    "print(2 >= 4)\n",
    "print(2 <= 4)\n",
    "print(2 == 4)\n",
    "print(2 != 4)"
   ]
  },
  {
   "cell_type": "markdown",
   "metadata": {},
   "source": [
    "# 5.9 Operator Logika di Python"
   ]
  },
  {
   "cell_type": "code",
   "execution_count": 40,
   "metadata": {},
   "outputs": [
    {
     "name": "stdout",
     "output_type": "stream",
     "text": [
      "False\n",
      "False\n",
      "True\n",
      "4\n",
      "0\n",
      "False\n"
     ]
    }
   ],
   "source": [
    "# NOT\n",
    "print(not True)\n",
    "# AND\n",
    "print(True and False)\n",
    "# OR\n",
    "print(False or True)\n",
    "\n",
    "#%%%%%%%%%%%%%%%%%%%%%%%%%%%%%%%%%%#\n",
    "print(4 or 0)\n",
    "print(4 and 0)\n",
    "print(not 4)"
   ]
  },
  {
   "cell_type": "markdown",
   "metadata": {},
   "source": [
    "Catatan Kaki : Python menganggap setiap nilai non-zero dan non-null sebagai True dan nilai zero/null sebagai False."
   ]
  },
  {
   "cell_type": "markdown",
   "metadata": {},
   "source": [
    "# 5.10 Operator if di Python"
   ]
  },
  {
   "cell_type": "markdown",
   "metadata": {},
   "source": [
    "### If"
   ]
  },
  {
   "cell_type": "markdown",
   "metadata": {},
   "source": [
    "Jika expression dievaluasi sebagai True, maka blok statement di dalam if statement akan dieksekusi. Sesuai konvensi, blok ini memiliki indentasi masuk setelah tanda titik dua (:). Jika expression dievaluasi sebagai False, maka blok selanjutnya (setelah statement IF) yang akan dijalankan"
   ]
  },
  {
   "cell_type": "code",
   "execution_count": 41,
   "metadata": {},
   "outputs": [
    {
     "name": "stdout",
     "output_type": "stream",
     "text": [
      "Cetak ini jika benar\n",
      "10\n"
     ]
    }
   ],
   "source": [
    "kelerengku = 10\n",
    "if kelerengku:\n",
    "   print (\"Cetak ini jika benar\")\n",
    "   print (kelerengku)"
   ]
  },
  {
   "cell_type": "markdown",
   "metadata": {},
   "source": [
    "### Else"
   ]
  },
  {
   "cell_type": "markdown",
   "metadata": {},
   "source": [
    "Statement Else dapat dikombinasikan dengan IF Statement, sebagai jalan keluar saat kondisi / hasil evaluasi bernilai False. Else bersifat opsional dan tunggal. Mari kita implementasikan dalam kasus pengecekan tinggi badan pengunjung di suatu wahana"
   ]
  },
  {
   "cell_type": "code",
   "execution_count": 42,
   "metadata": {},
   "outputs": [
    {
     "name": "stdout",
     "output_type": "stream",
     "text": [
      "Masukkan tinggi badan Anda : 45\n",
      "Maaf, Anda belum boleh masuk\n"
     ]
    }
   ],
   "source": [
    "tinggi_badan = int(input(\"Masukkan tinggi badan Anda : \"))\n",
    "if tinggi_badan>=160:\n",
    "   print (\"Silakan, Anda boleh masuk\")\n",
    "else:\n",
    "   print (\"Maaf, Anda belum boleh masuk\")"
   ]
  },
  {
   "cell_type": "markdown",
   "metadata": {},
   "source": [
    "### Elif"
   ]
  },
  {
   "cell_type": "markdown",
   "metadata": {},
   "source": [
    "Elif adalah kependekan dari else if, dan merupakan alternatif untuk if bertingkat atau switch/case di beberapa bahasa pemrograman lain. Sebuah IF Statement dapat diikuti satu atau lebih statement elif (opsional & tidak dibatasi)"
   ]
  },
  {
   "cell_type": "code",
   "execution_count": 43,
   "metadata": {},
   "outputs": [
    {
     "name": "stdout",
     "output_type": "stream",
     "text": [
      "Masukkan nilai tugas Anda : 90\n",
      "Selamat! Anda mendapat nilai A\n",
      "Pertahankan!\n"
     ]
    }
   ],
   "source": [
    "nilai = int(input(\"Masukkan nilai tugas Anda : \"))\n",
    "if nilai>80:\n",
    "   print(\"Selamat! Anda mendapat nilai A\")\n",
    "   print(\"Pertahankan!\")\n",
    "elif nilai>70:\n",
    "   print(\"Hore! Anda mendapat nilai B\")\n",
    "   print(\"Tingkatkan!\")\n",
    "elif nilai>60:\n",
    "   print(\"Hmm.. Anda mendapat nilai C\")\n",
    "   print(\"Ayo semangat!\")\n",
    "else:\n",
    "   print(\"Waduh, Anda mendapat nilai D\")\n",
    "   print(\"Yuk belajar lebih giat lagi!\")"
   ]
  },
  {
   "cell_type": "markdown",
   "metadata": {},
   "source": [
    "### Ternary Operators"
   ]
  },
  {
   "cell_type": "markdown",
   "metadata": {},
   "source": [
    "Ternary operator lebih dikenal sebagai conditional expressions pada Python. Operator menentukan sesuatu berdasarkan kondisi True atau False. Jika statement atau klausa if Anda cukup sederhana, maka ternary Operators akan sangat membantu"
   ]
  },
  {
   "cell_type": "code",
   "execution_count": 45,
   "metadata": {},
   "outputs": [
    {
     "name": "stdout",
     "output_type": "stream",
     "text": [
      "2\n",
      "2\n"
     ]
    }
   ],
   "source": [
    "kondisi = True\n",
    "\n",
    "# if operator\n",
    "if kondisi:\n",
    "    print(2)\n",
    "else:\n",
    "    print(1)\n",
    "#%% output : 2\n",
    "\n",
    "\n",
    "# ternary operator\n",
    "print(2 if kondisi else 1)\n",
    "#%% output : 2"
   ]
  }
 ],
 "metadata": {
  "kernelspec": {
   "display_name": "Python 3 (ipykernel)",
   "language": "python",
   "name": "python3"
  },
  "language_info": {
   "codemirror_mode": {
    "name": "ipython",
    "version": 3
   },
   "file_extension": ".py",
   "mimetype": "text/x-python",
   "name": "python",
   "nbconvert_exporter": "python",
   "pygments_lexer": "ipython3",
   "version": "3.10.5"
  },
  "vscode": {
   "interpreter": {
    "hash": "7a286ab6d5ab74b05f6cc6b941ab3ce081a560bdbb737203550dcb0debd96964"
   }
  }
 },
 "nbformat": 4,
 "nbformat_minor": 2
}
