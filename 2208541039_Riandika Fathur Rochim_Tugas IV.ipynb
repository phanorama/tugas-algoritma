{
 "cells": [
  {
   "cell_type": "markdown",
   "id": "94f2c066",
   "metadata": {},
   "source": [
    "# 5.11 While"
   ]
  },
  {
   "cell_type": "markdown",
   "id": "80377261",
   "metadata": {},
   "source": [
    "While pada bahasa Python digunakan untuk mengeksekusi statement selama kondisi yang diberikan terpenuhi (True). Kondisi dapat berupa expression apapun, dan True di Python termasuk semua nilai non-zero. Saat kondisi menjadi False, program akan melanjutkan ke baris setelah blok statement.\n",
    "\n",
    "Seperti for dan semua statement percabangan, blok statement yang mengikuti kondisi while dan memiliki posisi indentasi yang sama, dianggap blok statement yang akan dieksekusi.\n",
    "\n",
    "Contoh :"
   ]
  },
  {
   "cell_type": "code",
   "execution_count": 1,
   "id": "d5e43669",
   "metadata": {},
   "outputs": [
    {
     "name": "stdout",
     "output_type": "stream",
     "text": [
      "Hitungannya adalah: 0\n",
      "Hitungannya adalah: 1\n",
      "Hitungannya adalah: 2\n",
      "Hitungannya adalah: 3\n",
      "Hitungannya adalah: 4\n",
      "Hitungannya adalah: 5\n",
      "Hitungannya adalah: 6\n"
     ]
    }
   ],
   "source": [
    "count = 0\n",
    "while (count < 7):\n",
    "    print('Hitungannya adalah: {}'.format(count))\n",
    "    count = count + 1"
   ]
  },
  {
   "cell_type": "markdown",
   "id": "1d8eb817",
   "metadata": {},
   "source": [
    "Eksekusi statement while mungkin bersifat infinit / infinite loop saat sebuah kondisi tidak pernah bernilai False. Contohnya sebagai berikut:"
   ]
  },
  {
   "cell_type": "code",
   "execution_count": null,
   "id": "71e78567",
   "metadata": {},
   "outputs": [],
   "source": [
    "var = 1\n",
    "while var == 1:  # This constructs an infinite loop\n",
    "    num = input('Masukkan angka: ')\n",
    "    print('Anda memasukkan angka: {}'.format(num))"
   ]
  },
  {
   "cell_type": "markdown",
   "id": "f313e9f8",
   "metadata": {},
   "source": [
    "Potongan kode di atas tidak akan pernah bernilai False karena nilai var tidak pernah berubah. Untuk menghentikan infinite loop, gunakan CTRL (atau CMD⌘) - C untuk menghentikannya dan keluar dari program. Dan untuk menghentikan infinite loop di jupyter notebook, tekan tombol yang bersimbolkan \"⬛\" untuk menggunakan perintah \"Interrupt\""
   ]
  },
  {
   "cell_type": "markdown",
   "id": "9fab6215",
   "metadata": {},
   "source": [
    "Juga dapat menyingkat penulisan blok statement While jika statement Anda cukup terwakili oleh satu baris.\n",
    "\n",
    "Contoh :"
   ]
  },
  {
   "cell_type": "code",
   "execution_count": 7,
   "id": "49bdbe9f",
   "metadata": {},
   "outputs": [
    {
     "name": "stdout",
     "output_type": "stream",
     "text": [
      "4\n",
      "3\n",
      "2\n"
     ]
    }
   ],
   "source": [
    "x = 4\n",
    "while x>1 : print(x); x-=1"
   ]
  },
  {
   "cell_type": "markdown",
   "id": "c78acf2f",
   "metadata": {},
   "source": [
    "# 5.12 List Python"
   ]
  },
  {
   "cell_type": "markdown",
   "id": "6069a6f1",
   "metadata": {},
   "source": [
    "List adalah jenis kumpulan data terurut (ordered sequence), dan merupakan salah satu variabel yang sering digunakan pada Python. Serupa, namun tak sama dengan array pada bahasa pemrograman lainnya. Bedanya, elemen List pada Python tidak harus memiliki tipe data yang sama. Mendeklarasikan List cukup mudah dengan kurung siku dan elemen yang dipisahkan dengan koma. \"Sumber : Internet\""
   ]
  },
  {
   "cell_type": "markdown",
   "id": "f604d8db",
   "metadata": {},
   "source": [
    "Setiap data di dalamnya dapat diakses dengan indeks yang dimulai dari 0. Dan dapat menggunakan slicing operator dalam mengelola data list"
   ]
  },
  {
   "cell_type": "code",
   "execution_count": 8,
   "id": "c1a77ea9",
   "metadata": {},
   "outputs": [],
   "source": [
    "myList = ['foo', 4, -5, True, 0.4]\n",
    "myNestedList = ['0', [True, False], [1]]"
   ]
  },
  {
   "cell_type": "code",
   "execution_count": 11,
   "id": "e20f3d19",
   "metadata": {},
   "outputs": [
    {
     "name": "stdout",
     "output_type": "stream",
     "text": [
      "0\n",
      "[True, False]\n"
     ]
    }
   ],
   "source": [
    "print(myNestedList[0])\n",
    "print(myNestedList[1])"
   ]
  },
  {
   "cell_type": "markdown",
   "id": "640ffd44",
   "metadata": {},
   "source": [
    "List juga bisa dikombinasikan dengan list lainnya dengan operator \"+\"\n",
    "\n",
    "Contoh:"
   ]
  },
  {
   "cell_type": "code",
   "execution_count": 13,
   "id": "ca14cd2f",
   "metadata": {},
   "outputs": [
    {
     "name": "stdout",
     "output_type": "stream",
     "text": [
      "['foo', 4, -5, True, 0.4, '0', [True, False], [1]]\n"
     ]
    }
   ],
   "source": [
    "myList = ['foo', 4, -5, True, 0.4]\n",
    "myNestedList = ['0', [True, False], [1]]\n",
    "\n",
    "newList = myList + myNestedList\n",
    "print(newList)"
   ]
  },
  {
   "cell_type": "markdown",
   "id": "44e7cb49",
   "metadata": {},
   "source": [
    "Untuk menghapus item pada list berdasarkan indeks, bisa gunakan fungsi __del__"
   ]
  },
  {
   "cell_type": "code",
   "execution_count": 32,
   "id": "d83fa8cd",
   "metadata": {},
   "outputs": [
    {
     "name": "stdout",
     "output_type": "stream",
     "text": [
      "['kucing', 'rusa', 'gajah']\n"
     ]
    }
   ],
   "source": [
    "binatang = ['kucing', 'rusa', 'badak', 'gajah']\n",
    "del binatang[2]\n",
    "print(binatang)"
   ]
  },
  {
   "cell_type": "markdown",
   "id": "8956a922",
   "metadata": {},
   "source": [
    "__List Bersifat mutable, tidak seperti String yang nilainya tidak berubah-ubah walaupun telah dikelola dengan menghasilkan keluaran yang diinginkan. Perlu ketelitian dalam pengelolaan List di Jupyter Notebook__"
   ]
  },
  {
   "cell_type": "markdown",
   "id": "ea8e3649",
   "metadata": {},
   "source": [
    "# 5.13 Metoda List"
   ]
  },
  {
   "cell_type": "markdown",
   "id": "63af823e",
   "metadata": {},
   "source": [
    "Adapun fungsi-fungsi yang digunakan dalam manipulasi data list sebagai berikut :"
   ]
  },
  {
   "cell_type": "markdown",
   "id": "115f9240",
   "metadata": {},
   "source": [
    "* __append()__"
   ]
  },
  {
   "cell_type": "code",
   "execution_count": 16,
   "id": "1271f75f",
   "metadata": {},
   "outputs": [
    {
     "name": "stdout",
     "output_type": "stream",
     "text": [
      "['a', 'b', 'c', 5]\n"
     ]
    }
   ],
   "source": [
    "a = ['a', 'b', 'c']\n",
    "a.append(5)\n",
    "print(a)"
   ]
  },
  {
   "cell_type": "code",
   "execution_count": 18,
   "id": "e2e62c6e",
   "metadata": {},
   "outputs": [
    {
     "name": "stdout",
     "output_type": "stream",
     "text": [
      "['a', 'b', 'c', [...]]\n"
     ]
    }
   ],
   "source": [
    "a = ['a', 'b', 'c']\n",
    "a.append(a)\n",
    "print(a) #penambahan bersifat tak terbatas"
   ]
  },
  {
   "cell_type": "markdown",
   "id": "3437b510",
   "metadata": {},
   "source": [
    "* __extend()__"
   ]
  },
  {
   "cell_type": "code",
   "execution_count": 21,
   "id": "84aff5dd",
   "metadata": {},
   "outputs": [
    {
     "name": "stdout",
     "output_type": "stream",
     "text": [
      "[1, 2, 3, 0, 1, 0]\n"
     ]
    }
   ],
   "source": [
    "a = [1, 2, 3]\n",
    "b = [0, 1, 0]\n",
    "a.extend(b)\n",
    "print(a)"
   ]
  },
  {
   "cell_type": "markdown",
   "id": "d8451e14",
   "metadata": {},
   "source": [
    "* __insert()__"
   ]
  },
  {
   "cell_type": "code",
   "execution_count": 22,
   "id": "820ae6a6",
   "metadata": {},
   "outputs": [
    {
     "name": "stdout",
     "output_type": "stream",
     "text": [
      "['a', 'b', 'c', 'd']\n"
     ]
    }
   ],
   "source": [
    "a = ['a', 'c', 'd']\n",
    "a.insert(1, 'b')\n",
    "print(a)"
   ]
  },
  {
   "cell_type": "markdown",
   "id": "aec98a7e",
   "metadata": {},
   "source": [
    "* __pop()__"
   ]
  },
  {
   "cell_type": "code",
   "execution_count": 23,
   "id": "4f4145a6",
   "metadata": {},
   "outputs": [
    {
     "name": "stdout",
     "output_type": "stream",
     "text": [
      "['a', 'b']\n"
     ]
    }
   ],
   "source": [
    "a = ['a', 'b', 'c']\n",
    "a.pop()\n",
    "print(a)"
   ]
  },
  {
   "cell_type": "code",
   "execution_count": 24,
   "id": "7204ede0",
   "metadata": {},
   "outputs": [
    {
     "name": "stdout",
     "output_type": "stream",
     "text": [
      "['a', 'c']\n"
     ]
    }
   ],
   "source": [
    "a = ['a', 'b', 'c']\n",
    "a.pop(1)\n",
    "print(a)"
   ]
  },
  {
   "cell_type": "markdown",
   "id": "3a0b12e2",
   "metadata": {},
   "source": [
    "* __reverse()__"
   ]
  },
  {
   "cell_type": "code",
   "execution_count": 25,
   "id": "14f0a60c",
   "metadata": {},
   "outputs": [
    {
     "name": "stdout",
     "output_type": "stream",
     "text": [
      "['c', 'b', 'a']\n"
     ]
    }
   ],
   "source": [
    "a = ['a', 'b', 'c']\n",
    "a.reverse()\n",
    "print(a)"
   ]
  },
  {
   "cell_type": "markdown",
   "id": "4397a7a9",
   "metadata": {},
   "source": [
    "* __set()__"
   ]
  },
  {
   "cell_type": "code",
   "execution_count": 30,
   "id": "4b579cd1",
   "metadata": {},
   "outputs": [
    {
     "name": "stdout",
     "output_type": "stream",
     "text": [
      "{67, 77, 78, 88, 56}\n"
     ]
    }
   ],
   "source": [
    "a = [67, 78, 78, 88, 56, 77]\n",
    "print(set(a))"
   ]
  },
  {
   "cell_type": "markdown",
   "id": "70bb050c",
   "metadata": {},
   "source": [
    "* __len()__"
   ]
  },
  {
   "cell_type": "code",
   "execution_count": 31,
   "id": "edf7508d",
   "metadata": {},
   "outputs": [
    {
     "name": "stdout",
     "output_type": "stream",
     "text": [
      "6\n"
     ]
    }
   ],
   "source": [
    "a = [67, 78, 78, 88, 56, 77]\n",
    "print(len(a))"
   ]
  },
  {
   "cell_type": "markdown",
   "id": "d9c855fb",
   "metadata": {},
   "source": [
    "Selengkapnya bisa di cek di dokumentasi python"
   ]
  },
  {
   "cell_type": "markdown",
   "id": "57dbe4ce",
   "metadata": {},
   "source": [
    "# 5.14 For Loop"
   ]
  },
  {
   "cell_type": "markdown",
   "id": "9fd183f4",
   "metadata": {},
   "source": [
    "Seperti di bahasa pemrograman lainnya, Python juga memiliki fungsi for. Bedanya di Python, For tidak hanya untuk perulangan dengan jumlah finite (terbatas), melainkan lebih ke fungsi yang dapat melakukan perulangan pada setiap jenis variabel berupa kumpulan atau urutan. Variabel yang dimaksud bisa berupa list, string, ataupun range. Jika sebuah list atau urutan berisi expression, maka Ia akan dievaluasi terlebih dahulu. Kemudian item pertama pada urutan/list akan diassign sebagai variabel iterating_var. Setelahnya, blok statement akan dieksekusi, berlanjut ke item berikutnya, berulang, hingga seluruh urutan habis."
   ]
  },
  {
   "cell_type": "code",
   "execution_count": 33,
   "id": "fe2359ab",
   "metadata": {},
   "outputs": [
    {
     "name": "stdout",
     "output_type": "stream",
     "text": [
      "Flower: mawar\n",
      "Flower: melati\n",
      "Flower: anggrek\n"
     ]
    }
   ],
   "source": [
    "flowers = ['mawar', 'melati', 'anggrek']\n",
    "\n",
    "for flower in flowers:\n",
    "    print('Flower: {}'.format(flower))"
   ]
  },
  {
   "cell_type": "code",
   "execution_count": 37,
   "id": "97af66d8",
   "metadata": {},
   "outputs": [
    {
     "name": "stdout",
     "output_type": "stream",
     "text": [
      "******\n",
      "*****\n",
      "****\n",
      "***\n",
      "**\n",
      "*\n"
     ]
    }
   ],
   "source": [
    "#Perulangan Bertingkat\n",
    "for i in range(0, 6):\n",
    "    for j in range(0, 6 - i):\n",
    "        print('*', end='')\n",
    "    print()"
   ]
  },
  {
   "cell_type": "code",
   "execution_count": 40,
   "id": "16b9b741",
   "metadata": {},
   "outputs": [
    {
     "name": "stdout",
     "output_type": "stream",
     "text": [
      "[0, 1, 2, 3, 4, 5]\n"
     ]
    }
   ],
   "source": [
    "# Perulangan Satu Baris\n",
    "a = [x for x in range(0, 6)]\n",
    "print(a)"
   ]
  },
  {
   "cell_type": "markdown",
   "id": "ad018067",
   "metadata": {},
   "source": [
    "# 5.13 Fungsi Range"
   ]
  },
  {
   "cell_type": "markdown",
   "id": "409930c7",
   "metadata": {},
   "source": [
    "Fungsi range berguna untuk membangkitkan bilangan berurutan atau berpola yang kita inginkan"
   ]
  },
  {
   "cell_type": "code",
   "execution_count": 35,
   "id": "3a4588bc",
   "metadata": {},
   "outputs": [
    {
     "name": "stdout",
     "output_type": "stream",
     "text": [
      "0\n",
      "1\n",
      "2\n",
      "3\n",
      "4\n",
      "5\n",
      "6\n",
      "7\n",
      "8\n",
      "9\n"
     ]
    }
   ],
   "source": [
    "for i in range(0, 10):\n",
    "    print(i)"
   ]
  },
  {
   "cell_type": "code",
   "execution_count": 36,
   "id": "8d839d05",
   "metadata": {},
   "outputs": [
    {
     "name": "stdout",
     "output_type": "stream",
     "text": [
      "0\n",
      "2\n",
      "4\n",
      "6\n",
      "8\n"
     ]
    }
   ],
   "source": [
    "for i in range(0, 10, 2):\n",
    "    print(i)"
   ]
  }
 ],
 "metadata": {
  "kernelspec": {
   "display_name": "Python 3 (ipykernel)",
   "language": "python",
   "name": "python3"
  },
  "language_info": {
   "codemirror_mode": {
    "name": "ipython",
    "version": 3
   },
   "file_extension": ".py",
   "mimetype": "text/x-python",
   "name": "python",
   "nbconvert_exporter": "python",
   "pygments_lexer": "ipython3",
   "version": "3.9.12"
  }
 },
 "nbformat": 4,
 "nbformat_minor": 5
}
